{
 "cells": [
  {
   "cell_type": "code",
   "execution_count": 6,
   "id": "99736a03",
   "metadata": {},
   "outputs": [
    {
     "name": "stdout",
     "output_type": "stream",
     "text": [
      "The number of days between (2014, 7, 11) and (2014, 7, 2) is: 9 days, 0:00:00\n"
     ]
    }
   ],
   "source": [
    "from datetime import datetime\n",
    "Delta = datetime.strptime('2014/07/11', \"%Y/%m/%d\") - datetime.strptime('2014/07/02', \"%Y/%m/%d\")\n",
    "print(\"The number of days between {} and {} is:\".format(D2,D1), Delta)"
   ]
  }
 ],
 "metadata": {
  "kernelspec": {
   "display_name": "Python 3 (ipykernel)",
   "language": "python",
   "name": "python3"
  },
  "language_info": {
   "codemirror_mode": {
    "name": "ipython",
    "version": 3
   },
   "file_extension": ".py",
   "mimetype": "text/x-python",
   "name": "python",
   "nbconvert_exporter": "python",
   "pygments_lexer": "ipython3",
   "version": "3.10.9"
  }
 },
 "nbformat": 4,
 "nbformat_minor": 5
}
