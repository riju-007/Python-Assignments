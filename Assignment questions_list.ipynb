{
 "cells": [
  {
   "cell_type": "code",
   "execution_count": 3,
   "id": "c612e186",
   "metadata": {},
   "outputs": [
    {
     "name": "stdout",
     "output_type": "stream",
     "text": [
      "Enter comma seperated numbers:3,5,7.23\n",
      "The list is ['3', '5', '7.23']\n",
      "The tuple is ('3', '5', '7.23')\n"
     ]
    }
   ],
   "source": [
    "num_input = input(\"Enter comma seperated numbers:\")\n",
    "lists = num_input.split(',')\n",
    "tuples = tuple(lists)\n",
    "\n",
    "print(\"The list is\", lists)\n",
    "print(\"The tuple is\", tuples)"
   ]
  },
  {
   "cell_type": "code",
   "execution_count": 7,
   "id": "cd6b8d56",
   "metadata": {},
   "outputs": [
    {
     "name": "stdout",
     "output_type": "stream",
     "text": [
      "('Red', 'Black')\n"
     ]
    }
   ],
   "source": [
    "color_list = [\"Red\",\"Green\",\"White\" ,\"Black\"]\n",
    "color_list1 = color_list[0],color_list[3]\n",
    "print(color_list1)"
   ]
  },
  {
   "cell_type": "code",
   "execution_count": 9,
   "id": "ca62b825",
   "metadata": {},
   "outputs": [
    {
     "name": "stdout",
     "output_type": "stream",
     "text": [
      "[2, 4, 6, 8]\n"
     ]
    }
   ],
   "source": [
    "Sample_list = [1, 2, 3, 4, 5, 6, 7, 8, 9]\n",
    "print([i for i in Sample_list if i % 2 == 0])"
   ]
  },
  {
   "cell_type": "code",
   "execution_count": null,
   "id": "54d95563",
   "metadata": {},
   "outputs": [],
   "source": []
  }
 ],
 "metadata": {
  "kernelspec": {
   "display_name": "Python 3 (ipykernel)",
   "language": "python",
   "name": "python3"
  },
  "language_info": {
   "codemirror_mode": {
    "name": "ipython",
    "version": 3
   },
   "file_extension": ".py",
   "mimetype": "text/x-python",
   "name": "python",
   "nbconvert_exporter": "python",
   "pygments_lexer": "ipython3",
   "version": "3.10.9"
  }
 },
 "nbformat": 4,
 "nbformat_minor": 5
}
