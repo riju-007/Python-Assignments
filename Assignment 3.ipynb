{
 "cells": [
  {
   "cell_type": "markdown",
   "id": "c4849d72",
   "metadata": {},
   "source": [
    "#### 1. Write Python Programs to use various operators in Python\n",
    "\n"
   ]
  },
  {
   "cell_type": "code",
   "execution_count": 1,
   "id": "b7536dae",
   "metadata": {},
   "outputs": [],
   "source": [
    "def various_operators(list_1, list_2, function):\n",
    "    list_3 = []\n",
    "    if len(list_1) != len(list_2):\n",
    "        print(\"Please provide both lists with equal length\")\n",
    "    elif function == 'add':\n",
    "        for i in range(len(list_1)):\n",
    "            list_3.append(list_1[i] + list_2[i])\n",
    "        return list_3\n",
    "    elif function == 'subtract':\n",
    "        for i in range(len(list_1)):\n",
    "            list_3.append(list_1[i] - list_2[i])\n",
    "        return list_3\n",
    "    elif function == 'multiply':\n",
    "        for i in range(len(list_1)):\n",
    "            list_3.append(list_1[i] * list_2[i])\n",
    "        return list_3\n",
    "    elif function == 'divide':\n",
    "        for i in range(len(list_1)):\n",
    "            list_3.append(round(list_1[i] / list_2[i],2))\n",
    "        return list_3\n",
    "    elif function == 'modulo':\n",
    "        for i in range(len(list_1)):\n",
    "            list_3.append(round(list_1[i] % list_2[i],2))\n",
    "        return list_3\n",
    "    elif function == 'square':\n",
    "        list_4 = []\n",
    "        for i in range(len(list_1)):\n",
    "            list_3.append(round((list_1[i])**2,2))\n",
    "            list_4.append(round((list_2[i])**2,2))\n",
    "        return list_3 + list_4\n",
    "    elif function == 'cube':\n",
    "        list_4 = []\n",
    "        for i in range(len(list_1)):\n",
    "            list_3.append(round((list_1[i])**3,2))\n",
    "            list_4.append(round((list_2[i])**3,2))\n",
    "        return list_3 + list_4\n",
    "    else:\n",
    "        print('Please provide a valid arithmetic operator like \"add\",\\\n",
    "               \"subtract\", \"multiply\", divide\", \"module\", \"square\" and \"cube\"')"
   ]
  },
  {
   "cell_type": "markdown",
   "id": "a8f70fb0",
   "metadata": {},
   "source": [
    "#### 2. Create list of elements and slice and dice it\n",
    "\n"
   ]
  },
  {
   "cell_type": "code",
   "execution_count": 5,
   "id": "fc45c271",
   "metadata": {},
   "outputs": [
    {
     "name": "stdout",
     "output_type": "stream",
     "text": [
      "[1, 3, 5, 7, 9, 11]\n",
      "[2, 4, 6, 8, 10]\n",
      "[1, 2, 3, 4, 5]\n",
      "[7, 8, 9, 10, 11]\n",
      "[7, 8, 9, 10, 11]\n"
     ]
    }
   ],
   "source": [
    "# Initialize list\n",
    "Lst = [1, 2, 3, 4, 5, 6, 7, 8, 9, 10, 11]\n",
    " \n",
    "# Display list\n",
    "print(Lst[::2])\n",
    "\n",
    "# Display list\n",
    "print(Lst[1::2])\n",
    "\n",
    "# Display list\n",
    "print(Lst[:5])\n",
    "\n",
    "# Display list\n",
    "print(Lst[-5:])\n",
    "\n",
    "# Display list\n",
    "print(Lst[6:])"
   ]
  },
  {
   "cell_type": "markdown",
   "id": "1cc70662",
   "metadata": {},
   "source": [
    "#### 3. Using while loop accept numbers until sum of numbers is less than 100\n",
    "\n"
   ]
  },
  {
   "cell_type": "code",
   "execution_count": 6,
   "id": "e95dfe3e",
   "metadata": {},
   "outputs": [
    {
     "name": "stdout",
     "output_type": "stream",
     "text": [
      "50 50 100\n"
     ]
    }
   ],
   "source": [
    "mySum = 0\n",
    "num = 0\n",
    "while mySum < 100:\n",
    "    num += 1\n",
    "    theSum = num\n",
    "    mySum = theSum + num\n",
    "\n",
    "print(num, theSum, mySum)"
   ]
  },
  {
   "cell_type": "markdown",
   "id": "46a107b2",
   "metadata": {},
   "source": [
    "#### 4. Write a python program Read & write Excel files \n",
    "\n"
   ]
  },
  {
   "cell_type": "code",
   "execution_count": 8,
   "id": "12857855",
   "metadata": {},
   "outputs": [],
   "source": [
    "from openpyxl import Workbook\n",
    "import time\n",
    "\n",
    "book = Workbook()\n",
    "sheet = book.active\n",
    "\n",
    "sheet['A1'] = 'Name'\n",
    "sheet['A2'] = 'Dalvi Moin'\n",
    "\n",
    "now = time.strftime(\"%x\")\n",
    "sheet['A3'] = now\n",
    "\n",
    "book.save(\"sample.xlsx\")"
   ]
  },
  {
   "cell_type": "markdown",
   "id": "d188ac85",
   "metadata": {},
   "source": [
    "#### 6. Create a 3x3 matrix with values ranging from 2 to 10 using numpy\n",
    "\n"
   ]
  },
  {
   "cell_type": "code",
   "execution_count": 9,
   "id": "4ae793c5",
   "metadata": {},
   "outputs": [
    {
     "name": "stdout",
     "output_type": "stream",
     "text": [
      "[[ 2  3  4]\n",
      " [ 5  6  7]\n",
      " [ 8  9 10]]\n"
     ]
    }
   ],
   "source": [
    "import numpy as np\n",
    "x =  np.arange(2, 11).reshape(3,3)\n",
    "print(x)"
   ]
  },
  {
   "cell_type": "markdown",
   "id": "991a4b2d",
   "metadata": {},
   "source": [
    "#### 7. Write a Python program to convert a list of numeric value into a one-dimensional NumPy array\n",
    "\n"
   ]
  },
  {
   "cell_type": "code",
   "execution_count": 10,
   "id": "5346d1cf",
   "metadata": {},
   "outputs": [
    {
     "name": "stdout",
     "output_type": "stream",
     "text": [
      "Original List               :  [12.23, 13.32, 100, 36.32]\n",
      "One-dimensional NumPy array :  [ 12.23  13.32 100.    36.32]\n"
     ]
    }
   ],
   "source": [
    "import numpy as np\n",
    "print(\"Original List               : \",[12.23, 13.32, 100, 36.32])\n",
    "a = np.array([12.23, 13.32, 100, 36.32])\n",
    "print(\"One-dimensional NumPy array : \",a)"
   ]
  },
  {
   "cell_type": "markdown",
   "id": "0fc80c74",
   "metadata": {},
   "source": [
    "#### 8. \"Write a Python program to create a null vector of size 10 and update sixth value to 11.\n",
    "\n"
   ]
  },
  {
   "cell_type": "code",
   "execution_count": 11,
   "id": "ee0b1653",
   "metadata": {},
   "outputs": [
    {
     "name": "stdout",
     "output_type": "stream",
     "text": [
      "[0. 0. 0. 0. 0. 0. 0. 0. 0. 0.]\n",
      "Update sixth value to 11\n",
      "[ 0.  0.  0.  0.  0.  0. 11.  0.  0.  0.]\n"
     ]
    }
   ],
   "source": [
    "import numpy as np\n",
    "x = np.zeros(10)\n",
    "print(x)\n",
    "print(\"Update sixth value to 11\")\n",
    "x[6] = 11\n",
    "print(x)"
   ]
  },
  {
   "cell_type": "code",
   "execution_count": null,
   "id": "f4c86896",
   "metadata": {},
   "outputs": [],
   "source": []
  }
 ],
 "metadata": {
  "kernelspec": {
   "display_name": "Python 3 (ipykernel)",
   "language": "python",
   "name": "python3"
  },
  "language_info": {
   "codemirror_mode": {
    "name": "ipython",
    "version": 3
   },
   "file_extension": ".py",
   "mimetype": "text/x-python",
   "name": "python",
   "nbconvert_exporter": "python",
   "pygments_lexer": "ipython3",
   "version": "3.10.9"
  }
 },
 "nbformat": 4,
 "nbformat_minor": 5
}
