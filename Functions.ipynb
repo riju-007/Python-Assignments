{
 "cells": [
  {
   "cell_type": "code",
   "execution_count": 12,
   "id": "2d1d8e18",
   "metadata": {},
   "outputs": [
    {
     "data": {
      "text/plain": [
       "905.142857142857"
      ]
     },
     "execution_count": 12,
     "metadata": {},
     "output_type": "execute_result"
    }
   ],
   "source": [
    "def volume_of_sphere(radius):\n",
    "    v = (4/3)*(22/7)*radius**3\n",
    "    return v\n",
    "volume_of_sphere(6)"
   ]
  },
  {
   "cell_type": "code",
   "execution_count": 24,
   "id": "7118700b",
   "metadata": {},
   "outputs": [
    {
     "data": {
      "text/plain": [
       "18"
      ]
     },
     "execution_count": 24,
     "metadata": {},
     "output_type": "execute_result"
    }
   ],
   "source": [
    "def sum_of_three_numbers(a,b,c):\n",
    "    a = int(a)\n",
    "    b = int(b)\n",
    "    c = int(c)\n",
    "    if a==b and b==c and a==c:\n",
    "        return (a+b+c)*3\n",
    "    else:\n",
    "        return a+b+c\n",
    "\n",
    "sum_of_three_numbers(2,2,2)"
   ]
  },
  {
   "cell_type": "code",
   "execution_count": 34,
   "id": "9fa9423a",
   "metadata": {},
   "outputs": [
    {
     "name": "stdout",
     "output_type": "stream",
     "text": [
      "count of fours: 3\n"
     ]
    }
   ],
   "source": [
    "List = [1,4,6,8,4,9,4]\n",
    "def number_of_fours(List):\n",
    "    count = 0\n",
    "    for i in List:\n",
    "        if i == 4:\n",
    "            count+=1\n",
    "    return count\n",
    "print(\"count of fours:\",number_of_fours(List))"
   ]
  },
  {
   "cell_type": "code",
   "execution_count": 37,
   "id": "abd989e8",
   "metadata": {},
   "outputs": [
    {
     "name": "stdout",
     "output_type": "stream",
     "text": [
      "162\n",
      "758\n",
      "918\n"
     ]
    }
   ],
   "source": [
    "List = [399, 162, 758, 219, 918, 237, 412, 566, 826, 248, 866, 950, 626, 949, 687, 217, 815, 67, 104, 58, 512, 24, 892, 894, \n",
    "767, 553, 81, 379, 843, 831, 445, 742, 717, 958, 743, 527]\n",
    "def even_numbers(List):\n",
    "    for i in List:\n",
    "        if i%2==0:\n",
    "            print(i)\n",
    "        elif i==237:\n",
    "            break\n",
    "even_numbers(List)"
   ]
  },
  {
   "cell_type": "code",
   "execution_count": 41,
   "id": "0b469a9a",
   "metadata": {},
   "outputs": [
    {
     "name": "stdout",
     "output_type": "stream",
     "text": [
      "1505 1540 1575 1610 1645 1680 1715 1750 1785 1820 1855 1890 1925 1960 1995 2030 2065 2100 2135 2170 2205 2240 2275 2310 2345 2380 2415 2450 2485 2520 2555 2590 2625 2660 2695 "
     ]
    }
   ],
   "source": [
    "for i in range (1500,2701):\n",
    "        if i%7==0 and i%5==0:\n",
    "            print(i,end=\" \")"
   ]
  },
  {
   "cell_type": "code",
   "execution_count": 49,
   "id": "26fba072",
   "metadata": {},
   "outputs": [
    {
     "name": "stdout",
     "output_type": "stream",
     "text": [
      "0 1 2 4 5 "
     ]
    }
   ],
   "source": [
    "for i in range (0,7):\n",
    "    if i==3 or i==6:\n",
    "        continue\n",
    "    print(i,end=\" \")"
   ]
  },
  {
   "cell_type": "code",
   "execution_count": 79,
   "id": "0c8de9a9",
   "metadata": {},
   "outputs": [
    {
     "name": "stdout",
     "output_type": "stream",
     "text": [
      "0 1 1 2 3 5 8 13 21 34 55 89 "
     ]
    }
   ],
   "source": [
    "a = 0\n",
    "b = 1\n",
    "c = 0\n",
    "for i in range(1,11):\n",
    "    if i==1:\n",
    "        print(a,end=\" \")\n",
    "    if i==2:\n",
    "         print(b,end=\" \")\n",
    "    c=a+b\n",
    "    print(c,end=\" \")\n",
    "    a=b \n",
    "    b=c\n",
    "    "
   ]
  },
  {
   "cell_type": "code",
   "execution_count": 83,
   "id": "282b8424",
   "metadata": {},
   "outputs": [
    {
     "data": {
      "text/plain": [
       "[1, 2, 3, 4, 5]"
      ]
     },
     "execution_count": 83,
     "metadata": {},
     "output_type": "execute_result"
    }
   ],
   "source": [
    "Lists = [1,2,3,3,3,3,4,5]\n",
    "list(set(Lists))"
   ]
  }
 ],
 "metadata": {
  "kernelspec": {
   "display_name": "Python 3 (ipykernel)",
   "language": "python",
   "name": "python3"
  },
  "language_info": {
   "codemirror_mode": {
    "name": "ipython",
    "version": 3
   },
   "file_extension": ".py",
   "mimetype": "text/x-python",
   "name": "python",
   "nbconvert_exporter": "python",
   "pygments_lexer": "ipython3",
   "version": "3.10.9"
  }
 },
 "nbformat": 4,
 "nbformat_minor": 5
}
